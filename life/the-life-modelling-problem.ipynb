{
 "cells": [
  {
   "cell_type": "markdown",
   "metadata": {
    "_cell_guid": "b1076dfc-b9ad-4769-8c92-a6c4dae69d19",
    "_uuid": "8f2839f25d086af736a60e9eeb907d3b93b6e0e5"
   },
   "source": [
    "# The Life Modelling Problem\n",
    "\n",
    "## Product Definition\n",
    "\n",
    "Suppose we have an insurance product, in this case a simple term assurance which pays out S on death, on the condition that the policyholder pays a level premium of P per annum, and expires after T years.  We also incur initial expenses of I on setting up the policy, and renewal expenses of E per annum for the duration of the policy (this includes claim costs).\n",
    "\n",
    "## Modelling\n",
    "\n",
    "As actuaries, we want to calculate various metrics, for example to determine whether the policy is profitable, where to set the premium, and how much capital to hold.\n",
    "\n",
    "These can generally be expressed as equations of value:\n",
    "\n",
    "Expected Net Value = *E[PV(Premiums)] - E[PV(Claims)] - E[PV(Expenses)]*\n",
    "\n",
    "Where *E[]* is the expectation (arithmetic mean), and PV is the present value function, summing over all t.\n",
    "\n",
    "As *E[]* is linear, this can also be expressed as *E[PV(Premiums) - PV(Claims)]* or *PV[E(Premiums) - E(Claims)]*"
   ]
  },
  {
   "cell_type": "markdown",
   "metadata": {},
   "source": [
    "## Model Assumptions and Structure\n",
    "\n",
    "We can model this product as a Multi-State Model, with the states \"In Force\", \"Claimed\", \"Lapsed\" and \"Expired\", with one transition occuring per year.\n",
    "\n",
    "There are 3 transitions in this model:\n",
    "\n",
    "* In Force -> Claimed: q(t) - probability of dying between time t-1 and time t, and a claim being made\n",
    "* In Force -> Lapsed: w(t) - the probability that the policyholder cancels the policy between time t-1 and time t\n",
    "* In Force -> Expired: 1 if t is T, 0 otherwise\n",
    "\n",
    "q(t) and w(t) will depend on the policyholder's state (age/sex etc), and also the time period.\n",
    "\n",
    "For this simple example we will assume that q and w can be specified as tables:"
   ]
  },
  {
   "cell_type": "code",
   "execution_count": 45,
   "metadata": {},
   "outputs": [],
   "source": [
    "q = {0: 0.001,\n",
    "     1: 0.002,\n",
    "     2: 0.003,\n",
    "     3: 0.003,\n",
    "     4: 0.004,\n",
    "     5: 0.004,\n",
    "     6: 0.005,\n",
    "     7: 0.007,\n",
    "     8: 0.009,\n",
    "     9: 0.011}\n",
    "\n",
    "w = {0: 0.05,\n",
    "     1: 0.07,\n",
    "     2: 0.08,\n",
    "     3: 0.10,\n",
    "     4: 0.14,\n",
    "     5: 0.20,\n",
    "     6: 0.20,\n",
    "     7: 0.20,\n",
    "     8: 0.10,\n",
    "     9: 0.04}"
   ]
  },
  {
   "cell_type": "markdown",
   "metadata": {},
   "source": [
    "We will also set values for P (Premium), S (Sum Assured / Claim Amount), T (Term); we ignore expenses (I and E set equal = 0)"
   ]
  },
  {
   "cell_type": "code",
   "execution_count": 46,
   "metadata": {},
   "outputs": [],
   "source": [
    "P = 100\n",
    "S = 25_000\n",
    "T = 10"
   ]
  },
  {
   "cell_type": "markdown",
   "metadata": {},
   "source": [
    "We can now define the expected numbers of policies in states/having events of interest:\n",
    "\n",
    "- num_in_force: the number of policies in force\n",
    "- num_death: the number of deaths \n",
    "- num_lapses: the number of lapses occuring"
   ]
  },
  {
   "cell_type": "code",
   "execution_count": 47,
   "metadata": {},
   "outputs": [],
   "source": [
    "def num_in_force(t):\n",
    "    if t == 0:\n",
    "        return 1\n",
    "    elif t >= T:\n",
    "        return 0\n",
    "    else:\n",
    "        return num_in_force(t-1) - num_deaths(t-1) - num_lapses(t-1)"
   ]
  },
  {
   "cell_type": "code",
   "execution_count": 48,
   "metadata": {},
   "outputs": [],
   "source": [
    "def num_deaths(t):\n",
    "    if t < T:\n",
    "        return num_in_force(t) * q[t]\n",
    "    else:\n",
    "        return 0"
   ]
  },
  {
   "cell_type": "code",
   "execution_count": 49,
   "metadata": {},
   "outputs": [],
   "source": [
    "def num_lapses(t):\n",
    "    if t < T:\n",
    "        return num_in_force(t) * w[t]\n",
    "    else:\n",
    "        return 0"
   ]
  },
  {
   "cell_type": "code",
   "execution_count": 50,
   "metadata": {},
   "outputs": [
    {
     "name": "stdout",
     "output_type": "stream",
     "text": [
      " t : num_in_force(t)\n",
      " 0 : 1.000\n",
      " 1 : 0.949\n",
      " 2 : 0.881\n",
      " 3 : 0.808\n",
      " 4 : 0.724\n",
      " 5 : 0.620\n",
      " 6 : 0.494\n",
      " 7 : 0.392\n",
      " 8 : 0.311\n",
      " 9 : 0.277\n",
      "10 : 0.000\n"
     ]
    }
   ],
   "source": [
    "print(\" t : num_in_force(t)\")\n",
    "for t in range(11):\n",
    "    print(f\"{t:2} : {num_in_force(t):0.3f}\")"
   ]
  },
  {
   "cell_type": "markdown",
   "metadata": {},
   "source": [
    "We can now calculate the dependent expected cashflows, and an overall cashflow for that time point"
   ]
  },
  {
   "cell_type": "code",
   "execution_count": 51,
   "metadata": {},
   "outputs": [],
   "source": [
    "def claims(t):\n",
    "    return num_deaths(t) * S\n",
    "\n",
    "def premiums(t):\n",
    "    return num_in_force(t) * P\n",
    "\n",
    "def net_cashflow(t):\n",
    "    return premiums(t) - claims(t)"
   ]
  },
  {
   "cell_type": "code",
   "execution_count": 52,
   "metadata": {},
   "outputs": [
    {
     "name": "stdout",
     "output_type": "stream",
     "text": [
      " t : claims(t) \t premiums(t) \t net_cashflow(t)\n",
      "   0 :   25.000 \t  100.000 \t   75.000\n",
      "   1 :   47.450 \t   94.900 \t   47.450\n",
      "   2 :   66.050 \t   88.067 \t   22.017\n",
      "   3 :   60.568 \t   80.758 \t   20.189\n",
      "   4 :   72.440 \t   72.440 \t    0.000\n",
      "   5 :   62.008 \t   62.008 \t    0.000\n",
      "   6 :   61.698 \t   49.359 \t  -12.340\n",
      "   7 :   68.670 \t   39.240 \t  -29.430\n",
      "   8 :   70.014 \t   31.117 \t  -38.897\n",
      "   9 :   76.245 \t   27.726 \t  -48.520\n",
      "  10 :    0.000 \t    0.000 \t    0.000\n"
     ]
    }
   ],
   "source": [
    "print(\" t : claims(t) \\t premiums(t) \\t net_cashflow(t)\")\n",
    "for t in range(11):\n",
    "    print(f\"{t:4} : {claims(t):8.3f} \\t {premiums(t):8.3f} \\t {net_cashflow(t):8.3f}\")"
   ]
  },
  {
   "cell_type": "markdown",
   "metadata": {},
   "source": [
    "## Calculate Present Value\n",
    "\n",
    "Now we can calculate the present value, for this we would usually use a term dependent yield curve to capture the term dependency, for this example we will assume a flat yield curve, with rate 2% per annum."
   ]
  },
  {
   "cell_type": "code",
   "execution_count": 53,
   "metadata": {},
   "outputs": [],
   "source": [
    "def npv(cashflow, term, int_rate):\n",
    "    v = 1 / (1 + int_rate)\n",
    "    return sum(cashflow(t) * v**(t+1) for t in range(term))"
   ]
  },
  {
   "cell_type": "code",
   "execution_count": 54,
   "metadata": {},
   "outputs": [
    {
     "data": {
      "text/plain": [
       "592.7646738805214"
      ]
     },
     "execution_count": 54,
     "metadata": {},
     "output_type": "execute_result"
    }
   ],
   "source": [
    "npv(premiums, T, 0.02)"
   ]
  },
  {
   "cell_type": "code",
   "execution_count": 55,
   "metadata": {},
   "outputs": [
    {
     "data": {
      "text/plain": [
       "542.4398431254847"
      ]
     },
     "execution_count": 55,
     "metadata": {},
     "output_type": "execute_result"
    }
   ],
   "source": [
    "npv(claims, T, 0.02)"
   ]
  },
  {
   "cell_type": "markdown",
   "metadata": {},
   "source": [
    "Finally we can calculate the Expected Net Value, both as an absolute amount and as a percentage margin:"
   ]
  },
  {
   "cell_type": "code",
   "execution_count": 56,
   "metadata": {},
   "outputs": [
    {
     "data": {
      "text/plain": [
       "50.32483075503679"
      ]
     },
     "execution_count": 56,
     "metadata": {},
     "output_type": "execute_result"
    }
   ],
   "source": [
    "npv(net_cashflow, T, 0.02)"
   ]
  },
  {
   "cell_type": "code",
   "execution_count": 57,
   "metadata": {},
   "outputs": [
    {
     "name": "stdout",
     "output_type": "stream",
     "text": [
      "Margin (% of Premium): 8%\n"
     ]
    }
   ],
   "source": [
    "margin = npv(net_cashflow, T, 0.02) / npv(premiums, T, 0.02)\n",
    "print(f\"Margin (% of Premium): {margin:0.0%}\")"
   ]
  },
  {
   "cell_type": "markdown",
   "metadata": {},
   "source": [
    "So in this case (ignoring expenses), we would expect the policy to be profitable, as the value of premiums received is expected to outweigh the value of claims paid.  The margin (2%) is however fairly low, so introducing expenses are likely to make the policy unprofitable."
   ]
  },
  {
   "cell_type": "markdown",
   "metadata": {},
   "source": [
    "## This is a slow computation, how can it be sped up?\n",
    "\n",
    " - We can avoid repeated calculations of the same results (such as `num_in_force(5)`) by using a cache/memoization the results from the functions (using a decorator like `@lru_cache` on each result or `heavymodel`)\n",
    "\n",
    " - We could compile to c (using cython), or use pypy to perform JIT compilation.  Cython can't compile decorators so memoization needs to be coded separately (e.g. a Python memoization wrapper around the C function).\n",
    " \n",
    " - We could carry out analysis of the recursive functions and convert these into a non-recursive form.  This is likely to cause more problems than it solves, and if there is conditional logic (e.g. if we take the maximum of two values at a point in time), then it may be impossible."
   ]
  },
  {
   "cell_type": "markdown",
   "metadata": {},
   "source": [
    "# Heavy Model approach"
   ]
  },
  {
   "cell_type": "code",
   "execution_count": 58,
   "metadata": {},
   "outputs": [],
   "source": [
    "# if required: %pip install heavymodel-lewisfogden pyyaml"
   ]
  },
  {
   "cell_type": "code",
   "execution_count": 59,
   "metadata": {},
   "outputs": [],
   "source": [
    "import heavymodel"
   ]
  },
  {
   "cell_type": "markdown",
   "metadata": {},
   "source": [
    "## Define the model\n",
    "\n",
    "I have moved all the functions into the model class, and included the `self` reference so we calculate using the class method which will be cached.  (In practice T, S, P etc would also be attributes of the class, and set on instantiation)"
   ]
  },
  {
   "cell_type": "code",
   "execution_count": 60,
   "metadata": {},
   "outputs": [],
   "source": [
    "class Term(heavymodel.Model):\n",
    "    def num_in_force(self, t):\n",
    "        if t == 0:\n",
    "            return 1\n",
    "        elif t >= T:\n",
    "            return 0\n",
    "        else:\n",
    "            return self.num_in_force(t-1) - self.num_deaths(t-1) - self.num_lapses(t-1)\n",
    "    \n",
    "    def num_deaths(self, t):\n",
    "        if t < T:\n",
    "            return self.num_in_force(t) * q[t]\n",
    "        else:\n",
    "            return 0\n",
    "    \n",
    "    def num_lapses(self, t):\n",
    "        if t < T:\n",
    "            return self.num_in_force(t) * w[t]\n",
    "        else:\n",
    "            return 0\n",
    "        \n",
    "    def claims(self, t):\n",
    "        return self.num_deaths(t) * S\n",
    "\n",
    "    def premiums(self, t):\n",
    "        return self.num_in_force(t) * P\n",
    "\n",
    "    def net_cashflow(self, t):\n",
    "        return self.premiums(t) - self.claims(t)"
   ]
  },
  {
   "cell_type": "code",
   "execution_count": 61,
   "metadata": {},
   "outputs": [],
   "source": [
    "term = Term()\n",
    "term._run(T+1)"
   ]
  },
  {
   "cell_type": "code",
   "execution_count": 62,
   "metadata": {},
   "outputs": [
    {
     "data": {
      "text/html": [
       "<div>\n",
       "<style scoped>\n",
       "    .dataframe tbody tr th:only-of-type {\n",
       "        vertical-align: middle;\n",
       "    }\n",
       "\n",
       "    .dataframe tbody tr th {\n",
       "        vertical-align: top;\n",
       "    }\n",
       "\n",
       "    .dataframe thead th {\n",
       "        text-align: right;\n",
       "    }\n",
       "</style>\n",
       "<table border=\"1\" class=\"dataframe\">\n",
       "  <thead>\n",
       "    <tr style=\"text-align: right;\">\n",
       "      <th></th>\n",
       "      <th>claims</th>\n",
       "      <th>net_cashflow</th>\n",
       "      <th>num_deaths</th>\n",
       "      <th>num_in_force</th>\n",
       "      <th>num_lapses</th>\n",
       "      <th>premiums</th>\n",
       "    </tr>\n",
       "  </thead>\n",
       "  <tbody>\n",
       "    <tr>\n",
       "      <th>0</th>\n",
       "      <td>25.000000</td>\n",
       "      <td>75.000000</td>\n",
       "      <td>0.001000</td>\n",
       "      <td>1.000000</td>\n",
       "      <td>0.050000</td>\n",
       "      <td>100.000000</td>\n",
       "    </tr>\n",
       "    <tr>\n",
       "      <th>1</th>\n",
       "      <td>47.450000</td>\n",
       "      <td>47.450000</td>\n",
       "      <td>0.001898</td>\n",
       "      <td>0.949000</td>\n",
       "      <td>0.066430</td>\n",
       "      <td>94.900000</td>\n",
       "    </tr>\n",
       "    <tr>\n",
       "      <th>2</th>\n",
       "      <td>66.050400</td>\n",
       "      <td>22.016800</td>\n",
       "      <td>0.002642</td>\n",
       "      <td>0.880672</td>\n",
       "      <td>0.070454</td>\n",
       "      <td>88.067200</td>\n",
       "    </tr>\n",
       "    <tr>\n",
       "      <th>3</th>\n",
       "      <td>60.568217</td>\n",
       "      <td>20.189406</td>\n",
       "      <td>0.002423</td>\n",
       "      <td>0.807576</td>\n",
       "      <td>0.080758</td>\n",
       "      <td>80.757622</td>\n",
       "    </tr>\n",
       "    <tr>\n",
       "      <th>4</th>\n",
       "      <td>72.439587</td>\n",
       "      <td>0.000000</td>\n",
       "      <td>0.002898</td>\n",
       "      <td>0.724396</td>\n",
       "      <td>0.101415</td>\n",
       "      <td>72.439587</td>\n",
       "    </tr>\n",
       "    <tr>\n",
       "      <th>5</th>\n",
       "      <td>62.008287</td>\n",
       "      <td>0.000000</td>\n",
       "      <td>0.002480</td>\n",
       "      <td>0.620083</td>\n",
       "      <td>0.124017</td>\n",
       "      <td>62.008287</td>\n",
       "    </tr>\n",
       "    <tr>\n",
       "      <th>6</th>\n",
       "      <td>61.698245</td>\n",
       "      <td>-12.339649</td>\n",
       "      <td>0.002468</td>\n",
       "      <td>0.493586</td>\n",
       "      <td>0.098717</td>\n",
       "      <td>49.358596</td>\n",
       "    </tr>\n",
       "    <tr>\n",
       "      <th>7</th>\n",
       "      <td>68.670147</td>\n",
       "      <td>-29.430063</td>\n",
       "      <td>0.002747</td>\n",
       "      <td>0.392401</td>\n",
       "      <td>0.078480</td>\n",
       "      <td>39.240084</td>\n",
       "    </tr>\n",
       "    <tr>\n",
       "      <th>8</th>\n",
       "      <td>70.014120</td>\n",
       "      <td>-38.896733</td>\n",
       "      <td>0.002801</td>\n",
       "      <td>0.311174</td>\n",
       "      <td>0.031117</td>\n",
       "      <td>31.117387</td>\n",
       "    </tr>\n",
       "    <tr>\n",
       "      <th>9</th>\n",
       "      <td>76.245377</td>\n",
       "      <td>-48.519785</td>\n",
       "      <td>0.003050</td>\n",
       "      <td>0.277256</td>\n",
       "      <td>0.011090</td>\n",
       "      <td>27.725591</td>\n",
       "    </tr>\n",
       "    <tr>\n",
       "      <th>10</th>\n",
       "      <td>0.000000</td>\n",
       "      <td>0.000000</td>\n",
       "      <td>0.000000</td>\n",
       "      <td>0.000000</td>\n",
       "      <td>0.000000</td>\n",
       "      <td>0.000000</td>\n",
       "    </tr>\n",
       "  </tbody>\n",
       "</table>\n",
       "</div>"
      ],
      "text/plain": [
       "       claims  net_cashflow  num_deaths  num_in_force  num_lapses    premiums\n",
       "0   25.000000     75.000000    0.001000      1.000000    0.050000  100.000000\n",
       "1   47.450000     47.450000    0.001898      0.949000    0.066430   94.900000\n",
       "2   66.050400     22.016800    0.002642      0.880672    0.070454   88.067200\n",
       "3   60.568217     20.189406    0.002423      0.807576    0.080758   80.757622\n",
       "4   72.439587      0.000000    0.002898      0.724396    0.101415   72.439587\n",
       "5   62.008287      0.000000    0.002480      0.620083    0.124017   62.008287\n",
       "6   61.698245    -12.339649    0.002468      0.493586    0.098717   49.358596\n",
       "7   68.670147    -29.430063    0.002747      0.392401    0.078480   39.240084\n",
       "8   70.014120    -38.896733    0.002801      0.311174    0.031117   31.117387\n",
       "9   76.245377    -48.519785    0.003050      0.277256    0.011090   27.725591\n",
       "10   0.000000      0.000000    0.000000      0.000000    0.000000    0.000000"
      ]
     },
     "execution_count": 62,
     "metadata": {},
     "output_type": "execute_result"
    }
   ],
   "source": [
    "term._dataframe()"
   ]
  },
  {
   "cell_type": "code",
   "execution_count": 63,
   "metadata": {},
   "outputs": [
    {
     "data": {
      "text/plain": [
       "50.32483075503679"
      ]
     },
     "execution_count": 63,
     "metadata": {},
     "output_type": "execute_result"
    }
   ],
   "source": [
    "npv(term.net_cashflow, T, 0.02)"
   ]
  },
  {
   "cell_type": "code",
   "execution_count": 64,
   "metadata": {},
   "outputs": [
    {
     "name": "stdout",
     "output_type": "stream",
     "text": [
      "171 µs ± 1.04 µs per loop (mean ± std. dev. of 7 runs, 10000 loops each)\n"
     ]
    }
   ],
   "source": [
    "%timeit term=Term(); term._run(T+1); x = npv(term.net_cashflow, T, 0.02)"
   ]
  },
  {
   "cell_type": "code",
   "execution_count": 65,
   "metadata": {},
   "outputs": [
    {
     "name": "stdout",
     "output_type": "stream",
     "text": [
      "12.8 ms ± 24 µs per loop (mean ± std. dev. of 7 runs, 100 loops each)\n"
     ]
    }
   ],
   "source": [
    "%timeit x=npv(net_cashflow, T, 0.02)"
   ]
  },
  {
   "cell_type": "code",
   "execution_count": 67,
   "metadata": {},
   "outputs": [
    {
     "data": {
      "text/plain": [
       "74.85"
      ]
     },
     "execution_count": 67,
     "metadata": {},
     "output_type": "execute_result"
    }
   ],
   "source": [
    "# this result may change\n",
    "speed_up = 12.8 / (171/1000)\n",
    "round(speed_up, 2)"
   ]
  },
  {
   "cell_type": "markdown",
   "metadata": {},
   "source": [
    "So for this example, we are improving speed by a factor of c. 75x (1000 µs = 1 ms)."
   ]
  }
 ],
 "metadata": {
  "kernelspec": {
   "display_name": "Python 3",
   "language": "python",
   "name": "python3"
  },
  "language_info": {
   "codemirror_mode": {
    "name": "ipython",
    "version": 3
   },
   "file_extension": ".py",
   "mimetype": "text/x-python",
   "name": "python",
   "nbconvert_exporter": "python",
   "pygments_lexer": "ipython3",
   "version": "3.9.0"
  }
 },
 "nbformat": 4,
 "nbformat_minor": 4
}
